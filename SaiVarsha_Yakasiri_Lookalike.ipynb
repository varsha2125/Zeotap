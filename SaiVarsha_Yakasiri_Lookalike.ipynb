{
  "metadata": {
    "kernelspec": {
      "name": "python",
      "display_name": "Python (Pyodide)",
      "language": "python"
    },
    "language_info": {
      "codemirror_mode": {
        "name": "python",
        "version": 3
      },
      "file_extension": ".py",
      "mimetype": "text/x-python",
      "name": "python",
      "nbconvert_exporter": "python",
      "pygments_lexer": "ipython3",
      "version": "3.8"
    }
  },
  "nbformat_minor": 5,
  "nbformat": 4,
  "cells": [
    {
      "id": "890d4aff-e935-4181-9f2b-b7f1f343e4fc",
      "cell_type": "code",
      "source": "# Part 1: Load necessary libraries and datasets\nimport pandas as pd\nimport numpy as np\nfrom sklearn.metrics.pairwise import cosine_similarity\nfrom sklearn.preprocessing import StandardScaler\n\n# Load datasets\ncustomers = pd.read_csv('Customers.csv')\ntransactions = pd.read_csv('Transactions.csv')\nproducts = pd.read_csv('Products.csv')\n",
      "metadata": {
        "trusted": true
      },
      "outputs": [],
      "execution_count": 2
    },
    {
      "id": "ec63b18e-4679-47a8-b238-5e5a5dcc5202",
      "cell_type": "code",
      "source": "# Part 2: Merge transactions with customer data\nmerged_data = pd.merge(transactions, customers, on='CustomerID', how='inner')\n",
      "metadata": {
        "trusted": true
      },
      "outputs": [],
      "execution_count": 3
    },
    {
      "id": "911545db-493d-4347-8247-8d8e23d98753",
      "cell_type": "code",
      "source": "# Part 3: Feature Engineering\n\n# Extract demographic features for customers\ndemographics = customers[['CustomerID', 'Region', 'SignupDate']]\n\n# Encode categorical data (e.g., Region) into numerical format\ndemographics.loc[:, 'Region'] = demographics['Region'].astype('category').cat.codes\n",
      "metadata": {
        "trusted": true
      },
      "outputs": [],
      "execution_count": 4
    },
    {
      "id": "3bf4feec-d7d8-4dc3-beda-e886029b33e9",
      "cell_type": "code",
      "source": "# Part 4: Aggregate transaction data by customer\ncustomer_transactions = merged_data.groupby('CustomerID').agg(\n    total_spent=('TotalValue', 'sum'),\n    avg_quantity=('Quantity', 'mean'),\n    total_products=('ProductID', 'nunique')\n).reset_index()\n",
      "metadata": {
        "trusted": true
      },
      "outputs": [],
      "execution_count": 5
    },
    {
      "id": "4fa41228-4f80-4982-aa6d-367542500b4a",
      "cell_type": "code",
      "source": "# Align demographic data with transaction data\naligned_data = pd.merge(demographics, customer_transactions, on='CustomerID', how='inner')\n\n# Normalize the features\nscaler = StandardScaler()\ndemographics_scaled = scaler.fit_transform(aligned_data[['Region']])\ntransactions_scaled = scaler.fit_transform(aligned_data[['total_spent', 'avg_quantity', 'total_products']])\n\n# Combine the features into a single matrix\ncustomer_profile = np.hstack([demographics_scaled, transactions_scaled])\n",
      "metadata": {
        "trusted": true
      },
      "outputs": [],
      "execution_count": 6
    },
    {
      "id": "6a503dc0-6beb-4542-bc79-4039114289a9",
      "cell_type": "code",
      "source": "# Part 6: Calculate similarity matrix based on cosine similarity\nsimilarity_matrix = cosine_similarity(customer_profile)\n",
      "metadata": {
        "trusted": true
      },
      "outputs": [],
      "execution_count": 7
    },
    {
      "id": "92745dab-1a68-4f1f-b030-76f7b87d898f",
      "cell_type": "code",
      "source": "# Part 7: Generate recommendations for first 20 customers (C0001 to C0020)\nlookalike_recommendations = {}\n\nfor idx in range(20):  # First 20 customers\n    customer_id = customers.iloc[idx]['CustomerID']\n    similarities = similarity_matrix[idx]\n    \n    # Get the 3 most similar customers excluding the customer itself\n    similar_customers_idx = np.argsort(similarities)[::-1][1:4]  # Exclude self\n    similar_customer_ids = customers.iloc[similar_customers_idx]['CustomerID'].values\n    similar_scores = similarities[similar_customers_idx]\n    \n    # Store recommendations\n    lookalike_recommendations[customer_id] = list(zip(similar_customer_ids, similar_scores))\n",
      "metadata": {
        "trusted": true
      },
      "outputs": [],
      "execution_count": 8
    },
    {
      "id": "a718608e-bb18-4d1d-9af8-346d8ad3c3a8",
      "cell_type": "code",
      "source": "# Prepare the data in the correct format\nlookalike_data = []\nfor cust_id, recs in lookalike_recommendations.items():\n    for rec in recs:\n        lookalike_data.append([cust_id, rec[0], rec[1]])  # [CustomerID, SimilarCustomerID, SimilarityScore]\n\n# Create the DataFrame\nlookalike_df = pd.DataFrame(lookalike_data, columns=['CustomerID', 'RecommendedCustomerID', 'SimilarityScore'])\n\n# Save recommendations to Lookalike.csv\nlookalike_df.to_csv('Lookalike2.csv', index=False)\n\n# Print the lookalike recommendations for the first 20 customers\nfor cust_id, recs in lookalike_recommendations.items():\n    print(f\"Customer {cust_id}:\")\n    for rec in recs:\n        print(f\"  Recommended Customer: {rec[0]}, Similarity Score: {rec[1]:.4f}\")\n    print()\n",
      "metadata": {
        "trusted": true
      },
      "outputs": [
        {
          "name": "stdout",
          "output_type": "stream",
          "text": "Customer C0001:\n  Recommended Customer: C0107, Similarity Score: 0.9932\n  Recommended Customer: C0174, Similarity Score: 0.9809\n  Recommended Customer: C0048, Similarity Score: 0.9772\n\nCustomer C0002:\n  Recommended Customer: C0185, Similarity Score: 0.9609\n  Recommended Customer: C0142, Similarity Score: 0.9586\n  Recommended Customer: C0005, Similarity Score: 0.9546\n\nCustomer C0003:\n  Recommended Customer: C0091, Similarity Score: 0.9676\n  Recommended Customer: C0160, Similarity Score: 0.9280\n  Recommended Customer: C0026, Similarity Score: 0.9239\n\nCustomer C0004:\n  Recommended Customer: C0113, Similarity Score: 0.9829\n  Recommended Customer: C0104, Similarity Score: 0.9526\n  Recommended Customer: C0099, Similarity Score: 0.9474\n\nCustomer C0005:\n  Recommended Customer: C0185, Similarity Score: 0.9976\n  Recommended Customer: C0135, Similarity Score: 0.9738\n  Recommended Customer: C0140, Similarity Score: 0.9696\n\nCustomer C0006:\n  Recommended Customer: C0168, Similarity Score: 0.9694\n  Recommended Customer: C0171, Similarity Score: 0.9193\n  Recommended Customer: C0163, Similarity Score: 0.8836\n\nCustomer C0007:\n  Recommended Customer: C0159, Similarity Score: 0.9897\n  Recommended Customer: C0115, Similarity Score: 0.9851\n  Recommended Customer: C0092, Similarity Score: 0.9765\n\nCustomer C0008:\n  Recommended Customer: C0193, Similarity Score: 0.9245\n  Recommended Customer: C0024, Similarity Score: 0.9183\n  Recommended Customer: C0098, Similarity Score: 0.8985\n\nCustomer C0009:\n  Recommended Customer: C0197, Similarity Score: 0.9572\n  Recommended Customer: C0119, Similarity Score: 0.9554\n  Recommended Customer: C0097, Similarity Score: 0.9523\n\nCustomer C0010:\n  Recommended Customer: C0166, Similarity Score: 0.9561\n  Recommended Customer: C0196, Similarity Score: 0.9520\n  Recommended Customer: C0073, Similarity Score: 0.9329\n\nCustomer C0011:\n  Recommended Customer: C0048, Similarity Score: 0.9590\n  Recommended Customer: C0107, Similarity Score: 0.9587\n  Recommended Customer: C0001, Similarity Score: 0.9464\n\nCustomer C0012:\n  Recommended Customer: C0153, Similarity Score: 0.9798\n  Recommended Customer: C0102, Similarity Score: 0.9636\n  Recommended Customer: C0013, Similarity Score: 0.9596\n\nCustomer C0013:\n  Recommended Customer: C0102, Similarity Score: 0.9987\n  Recommended Customer: C0104, Similarity Score: 0.9890\n  Recommended Customer: C0099, Similarity Score: 0.9889\n\nCustomer C0014:\n  Recommended Customer: C0060, Similarity Score: 0.9994\n  Recommended Customer: C0033, Similarity Score: 0.9482\n  Recommended Customer: C0063, Similarity Score: 0.9440\n\nCustomer C0015:\n  Recommended Customer: C0033, Similarity Score: 0.9917\n  Recommended Customer: C0131, Similarity Score: 0.9777\n  Recommended Customer: C0042, Similarity Score: 0.9573\n\nCustomer C0016:\n  Recommended Customer: C0154, Similarity Score: 0.9352\n  Recommended Customer: C0183, Similarity Score: 0.9198\n  Recommended Customer: C0118, Similarity Score: 0.9052\n\nCustomer C0017:\n  Recommended Customer: C0175, Similarity Score: 0.9826\n  Recommended Customer: C0124, Similarity Score: 0.9764\n  Recommended Customer: C0075, Similarity Score: 0.9399\n\nCustomer C0018:\n  Recommended Customer: C0148, Similarity Score: 0.9313\n  Recommended Customer: C0114, Similarity Score: 0.8969\n  Recommended Customer: C0079, Similarity Score: 0.8901\n\nCustomer C0019:\n  Recommended Customer: C0172, Similarity Score: 0.9945\n  Recommended Customer: C0119, Similarity Score: 0.9388\n  Recommended Customer: C0069, Similarity Score: 0.9375\n\nCustomer C0020:\n  Recommended Customer: C0036, Similarity Score: 0.9737\n  Recommended Customer: C0050, Similarity Score: 0.9048\n  Recommended Customer: C0151, Similarity Score: 0.8855\n\n"
        }
      ],
      "execution_count": 11
    },
    {
      "id": "6013a296-df5a-40d4-b1d1-0fef99a68465",
      "cell_type": "code",
      "source": "",
      "metadata": {
        "trusted": true
      },
      "outputs": [],
      "execution_count": null
    }
  ]
}